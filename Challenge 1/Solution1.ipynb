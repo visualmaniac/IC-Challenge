{
 "cells": [
  {
   "cell_type": "code",
   "execution_count": 1,
   "id": "7a966eba-077e-4e3e-934e-abab45560ee9",
   "metadata": {},
   "outputs": [],
   "source": [
    "import pandas as pd\n",
    "import matplotlib.pyplot as plt\n",
    "import scipy.optimize as sp"
   ]
  },
  {
   "cell_type": "code",
   "execution_count": 2,
   "id": "716ca1f3-39b9-4123-83f5-4b5afdde4690",
   "metadata": {},
   "outputs": [
    {
     "data": {
      "text/html": [
       "<div>\n",
       "<style scoped>\n",
       "    .dataframe tbody tr th:only-of-type {\n",
       "        vertical-align: middle;\n",
       "    }\n",
       "\n",
       "    .dataframe tbody tr th {\n",
       "        vertical-align: top;\n",
       "    }\n",
       "\n",
       "    .dataframe thead th {\n",
       "        text-align: right;\n",
       "    }\n",
       "</style>\n",
       "<table border=\"1\" class=\"dataframe\">\n",
       "  <thead>\n",
       "    <tr style=\"text-align: right;\">\n",
       "      <th></th>\n",
       "      <th>0</th>\n",
       "      <th>1</th>\n",
       "    </tr>\n",
       "  </thead>\n",
       "  <tbody>\n",
       "    <tr>\n",
       "      <th>0</th>\n",
       "      <td>2020-01-01</td>\n",
       "      <td>3052.89738</td>\n",
       "    </tr>\n",
       "    <tr>\n",
       "      <th>1</th>\n",
       "      <td>2020-01-02</td>\n",
       "      <td>3210.74493</td>\n",
       "    </tr>\n",
       "    <tr>\n",
       "      <th>2</th>\n",
       "      <td>2020-01-03</td>\n",
       "      <td>2441.95893</td>\n",
       "    </tr>\n",
       "    <tr>\n",
       "      <th>3</th>\n",
       "      <td>2020-01-04</td>\n",
       "      <td>37457.50944</td>\n",
       "    </tr>\n",
       "    <tr>\n",
       "      <th>4</th>\n",
       "      <td>2020-01-05</td>\n",
       "      <td>3768.72306</td>\n",
       "    </tr>\n",
       "    <tr>\n",
       "      <th>...</th>\n",
       "      <td>...</td>\n",
       "      <td>...</td>\n",
       "    </tr>\n",
       "    <tr>\n",
       "      <th>361</th>\n",
       "      <td>2020-12-27</td>\n",
       "      <td>3210.74538</td>\n",
       "    </tr>\n",
       "    <tr>\n",
       "      <th>362</th>\n",
       "      <td>2020-12-28</td>\n",
       "      <td>2441.95938</td>\n",
       "    </tr>\n",
       "    <tr>\n",
       "      <th>363</th>\n",
       "      <td>2020-12-29</td>\n",
       "      <td>37457.50989</td>\n",
       "    </tr>\n",
       "    <tr>\n",
       "      <th>364</th>\n",
       "      <td>2020-12-30</td>\n",
       "      <td>3768.72351</td>\n",
       "    </tr>\n",
       "    <tr>\n",
       "      <th>365</th>\n",
       "      <td>2020-12-31</td>\n",
       "      <td>3453.39804</td>\n",
       "    </tr>\n",
       "  </tbody>\n",
       "</table>\n",
       "<p>366 rows × 2 columns</p>\n",
       "</div>"
      ],
      "text/plain": [
       "             0            1\n",
       "0   2020-01-01   3052.89738\n",
       "1   2020-01-02   3210.74493\n",
       "2   2020-01-03   2441.95893\n",
       "3   2020-01-04  37457.50944\n",
       "4   2020-01-05   3768.72306\n",
       "..         ...          ...\n",
       "361 2020-12-27   3210.74538\n",
       "362 2020-12-28   2441.95938\n",
       "363 2020-12-29  37457.50989\n",
       "364 2020-12-30   3768.72351\n",
       "365 2020-12-31   3453.39804\n",
       "\n",
       "[366 rows x 2 columns]"
      ]
     },
     "execution_count": 2,
     "metadata": {},
     "output_type": "execute_result"
    }
   ],
   "source": [
    "df = pd.read_csv('daten.csv', header=None)\n",
    "\n",
    "#change type of first column to datetime and right format\n",
    "df[0] = pd.to_datetime(df[0])\n",
    "df[0] = df[0].dt.strftime(\"%d-%m-%Y\")\n",
    "df[0] = pd.to_datetime(df[0])\n",
    "\n",
    "#change from string to numeric value\n",
    "df[1] = df[1].str.replace(',', '.')\n",
    "df[1] = pd.to_numeric(df[1])\n",
    "df"
   ]
  },
  {
   "cell_type": "code",
   "execution_count": 3,
   "id": "e09f61df-2eda-45f9-9511-9b9797b78dc3",
   "metadata": {},
   "outputs": [
    {
     "name": "stdout",
     "output_type": "stream",
     "text": [
      "2020 12 4 26\n"
     ]
    }
   ],
   "source": [
    "value = df[0][360]\n",
    "\n",
    "print(value.year,\n",
    "value.month,\n",
    "value.quarter,\n",
    "value.day)"
   ]
  },
  {
   "cell_type": "code",
   "execution_count": 4,
   "id": "91ab6f2e-52af-4d0b-9b7f-c8be090b5152",
   "metadata": {},
   "outputs": [
    {
     "data": {
      "text/html": [
       "<div>\n",
       "<style scoped>\n",
       "    .dataframe tbody tr th:only-of-type {\n",
       "        vertical-align: middle;\n",
       "    }\n",
       "\n",
       "    .dataframe tbody tr th {\n",
       "        vertical-align: top;\n",
       "    }\n",
       "\n",
       "    .dataframe thead th {\n",
       "        text-align: right;\n",
       "    }\n",
       "</style>\n",
       "<table border=\"1\" class=\"dataframe\">\n",
       "  <thead>\n",
       "    <tr style=\"text-align: right;\">\n",
       "      <th></th>\n",
       "      <th>0</th>\n",
       "      <th>1</th>\n",
       "      <th>2</th>\n",
       "      <th>3</th>\n",
       "    </tr>\n",
       "  </thead>\n",
       "  <tbody>\n",
       "    <tr>\n",
       "      <th>0</th>\n",
       "      <td>1</td>\n",
       "      <td>0.425</td>\n",
       "      <td>0.183</td>\n",
       "      <td>0.027</td>\n",
       "    </tr>\n",
       "    <tr>\n",
       "      <th>1</th>\n",
       "      <td>1</td>\n",
       "      <td>0.425</td>\n",
       "      <td>0.183</td>\n",
       "      <td>0.027</td>\n",
       "    </tr>\n",
       "    <tr>\n",
       "      <th>2</th>\n",
       "      <td>1</td>\n",
       "      <td>0.425</td>\n",
       "      <td>0.175</td>\n",
       "      <td>0.026</td>\n",
       "    </tr>\n",
       "    <tr>\n",
       "      <th>3</th>\n",
       "      <td>1</td>\n",
       "      <td>0.250</td>\n",
       "      <td>0.158</td>\n",
       "      <td>0.024</td>\n",
       "    </tr>\n",
       "    <tr>\n",
       "      <th>4</th>\n",
       "      <td>1</td>\n",
       "      <td>0.250</td>\n",
       "      <td>0.117</td>\n",
       "      <td>0.019</td>\n",
       "    </tr>\n",
       "    <tr>\n",
       "      <th>5</th>\n",
       "      <td>1</td>\n",
       "      <td>0.250</td>\n",
       "      <td>0.100</td>\n",
       "      <td>0.015</td>\n",
       "    </tr>\n",
       "    <tr>\n",
       "      <th>6</th>\n",
       "      <td>1</td>\n",
       "      <td>0.250</td>\n",
       "      <td>0.100</td>\n",
       "      <td>0.015</td>\n",
       "    </tr>\n",
       "    <tr>\n",
       "      <th>7</th>\n",
       "      <td>1</td>\n",
       "      <td>0.250</td>\n",
       "      <td>0.100</td>\n",
       "      <td>0.015</td>\n",
       "    </tr>\n",
       "    <tr>\n",
       "      <th>8</th>\n",
       "      <td>1</td>\n",
       "      <td>0.250</td>\n",
       "      <td>0.117</td>\n",
       "      <td>0.019</td>\n",
       "    </tr>\n",
       "    <tr>\n",
       "      <th>9</th>\n",
       "      <td>1</td>\n",
       "      <td>0.425</td>\n",
       "      <td>0.175</td>\n",
       "      <td>0.026</td>\n",
       "    </tr>\n",
       "    <tr>\n",
       "      <th>10</th>\n",
       "      <td>1</td>\n",
       "      <td>0.425</td>\n",
       "      <td>0.183</td>\n",
       "      <td>0.027</td>\n",
       "    </tr>\n",
       "    <tr>\n",
       "      <th>11</th>\n",
       "      <td>1</td>\n",
       "      <td>0.425</td>\n",
       "      <td>0.183</td>\n",
       "      <td>0.027</td>\n",
       "    </tr>\n",
       "  </tbody>\n",
       "</table>\n",
       "</div>"
      ],
      "text/plain": [
       "    0      1      2      3\n",
       "0   1  0.425  0.183  0.027\n",
       "1   1  0.425  0.183  0.027\n",
       "2   1  0.425  0.175  0.026\n",
       "3   1  0.250  0.158  0.024\n",
       "4   1  0.250  0.117  0.019\n",
       "5   1  0.250  0.100  0.015\n",
       "6   1  0.250  0.100  0.015\n",
       "7   1  0.250  0.100  0.015\n",
       "8   1  0.250  0.117  0.019\n",
       "9   1  0.425  0.175  0.026\n",
       "10  1  0.425  0.183  0.027\n",
       "11  1  0.425  0.183  0.027"
      ]
     },
     "execution_count": 4,
     "metadata": {},
     "output_type": "execute_result"
    }
   ],
   "source": [
    "#read prices and change type to numeric\n",
    "prices = pd.read_csv('preise.csv', header=None)\n",
    "prices.iloc[:, 1:] = prices.iloc[:, 1:].applymap(lambda x: pd.to_numeric(x.replace(',', '.')))\n",
    "prices"
   ]
  },
  {
   "cell_type": "markdown",
   "id": "8f730d19-13ab-4ea0-81a1-f887640b8b40",
   "metadata": {},
   "source": [
    "Now we will define our objetive Function. The input should be a list of the parameters and the output the cost of this package combination.\n",
    "\n",
    "The input list should be of the form [year, q1, q2, q3, q4, m1, ..., m12]"
   ]
  },
  {
   "cell_type": "code",
   "execution_count": 5,
   "id": "dcd45ee9-482a-4d3b-b11f-d6df5e9adfd1",
   "metadata": {},
   "outputs": [],
   "source": [
    "def objective(param):\n",
    "    \n",
    "    param_year = param[0]\n",
    "    param_quarter = param[1:5]\n",
    "    param_months = param[5:17]\n",
    "    penalty_months = prices[3]\n",
    "    \n",
    "    penalty_list = []\n",
    "\n",
    "    #calculate dayly costs for whole year\n",
    "    for day in range(366):\n",
    "        \n",
    "        #get demand of this day\n",
    "        \n",
    "        this_day, daily_demand = df[0][day], df[1][day]\n",
    "        \n",
    "        #get pricing today depending on quarter, month\n",
    "        quarter = this_day.quarter - 1\n",
    "        month = this_day.month - 1  # -1 for combatibility with list indexing\n",
    "        \n",
    "        #calculate penalty cost of this day\n",
    "        demand_satisfied = param_year + param_quarter[quarter] + param_months[month]\n",
    "        missing_demand = max(0, daily_demand - demand_satisfied)\n",
    "        \n",
    "        penalty_cost = missing_demand * penalty_months[month]\n",
    "        \n",
    "        #save penalty cost in list\n",
    "        penalty_list.append(penalty_cost)\n",
    "     \n",
    "    #calculate total penalty cost and package cost\n",
    "    total_penalty_cost = sum(penalty_list)\n",
    "    cost_year = param_year\n",
    "    cost_quarter = 0.425 * param_quarter[0] + 0.25 * param_quarter[1] + 0.25 * param_quarter[2] + 0.425 * param_quarter[3]\n",
    "    cost_months = 0\n",
    "    i = 0\n",
    "    while i<12:\n",
    "        cost_months += param_months[i]*prices[2][i]\n",
    "        i += 1\n",
    "    \n",
    "    package_cost = cost_year + cost_quarter + cost_months\n",
    "    \n",
    "    total_cost = total_penalty_cost + package_cost\n",
    "    return total_cost"
   ]
  },
  {
   "cell_type": "code",
   "execution_count": 6,
   "id": "dac28419-7868-410b-bf67-2740e370493b",
   "metadata": {},
   "outputs": [],
   "source": [
    "initial_guess = [1]*17\n",
    "bnds = tuple([(0, None)]*17)\n",
    "result = sp.minimize(objective, initial_guess, bounds=bnds)"
   ]
  },
  {
   "cell_type": "code",
   "execution_count": 7,
   "id": "c193e083-4629-4881-a1bc-9b692671212d",
   "metadata": {},
   "outputs": [
    {
     "data": {
      "text/plain": [
       "      fun: 37457.50966804107\n",
       " hess_inv: <17x17 LbfgsInvHessProduct with dtype=float64>\n",
       "      jac: array([-0.02256186,  0.13096724,  0.01891749,  0.07348717,  0.10550139,\n",
       "        0.07566996,  0.07566996,  0.09749783,  0.06184564,  0.04147296,\n",
       "        0.04001777,  0.04001777,  0.04001777,  0.06039045,  0.07130438,\n",
       "        0.07566996,  0.07566996])\n",
       "  message: 'CONVERGENCE: REL_REDUCTION_OF_F_<=_FACTR*EPSMCH'\n",
       "     nfev: 2412\n",
       "      nit: 13\n",
       "     njev: 134\n",
       "   status: 0\n",
       "  success: True\n",
       "        x: array([37457.50943908,     0.        ,     0.        ,     0.        ,\n",
       "           0.        ,     0.        ,     0.        ,     0.        ,\n",
       "           0.        ,     0.        ,     0.        ,     0.        ,\n",
       "           0.        ,     0.        ,     0.        ,     0.        ,\n",
       "           0.        ])"
      ]
     },
     "execution_count": 7,
     "metadata": {},
     "output_type": "execute_result"
    }
   ],
   "source": [
    "result"
   ]
  },
  {
   "cell_type": "code",
   "execution_count": 8,
   "id": "565a3e78-e7c7-45b3-9f7a-6b893520aed0",
   "metadata": {},
   "outputs": [
    {
     "name": "stdout",
     "output_type": "stream",
     "text": [
      "units_year = 37457.50943908373 \n",
      " units_quarter = [0. 0. 0. 0.] \n",
      " units_year = [0. 0. 0. 0. 0. 0. 0. 0. 0. 0. 0. 0.]\n"
     ]
    }
   ],
   "source": [
    "print( \"units_year = \" + str(result.x[0]), \"\\n\",\n",
    "    \"units_quarter = \" + str(result.x[1:5]),\"\\n\",\n",
    "    \"units_year = \" + str(result.x[5:]))"
   ]
  },
  {
   "cell_type": "code",
   "execution_count": 9,
   "id": "e12ffdf8-5e7f-49e7-9bdd-fa278e95b386",
   "metadata": {},
   "outputs": [
    {
     "data": {
      "text/plain": [
       "(18262.0, 18293.0)"
      ]
     },
     "execution_count": 9,
     "metadata": {},
     "output_type": "execute_result"
    },
    {
     "data": {
      "image/png": "[encoded data removed]",
      "text/plain": [
       "<Figure size 432x288 with 1 Axes>"
      ]
     },
     "metadata": {
      "needs_background": "light"
     },
     "output_type": "display_data"
    }
   ],
   "source": [
    "data = df\n",
    "data = data.set_index(0)\n",
    "\n",
    "p = plt.subplot(2,1,1)\n",
    "plt.plot(data[1])\n",
    "p.set_xlim(pd.Timestamp('2020-01-01'),pd.Timestamp('2020-02-01'))"
   ]
  },
  {
   "cell_type": "code",
   "execution_count": null,
   "id": "3acb8801-eaa6-4487-a962-0ebc2aa7be0f",
   "metadata": {},
   "outputs": [],
   "source": []
  }
 ],
 "metadata": {
  "kernelspec": {
   "display_name": "Python 3 (ipykernel)",
   "language": "python",
   "name": "python3"
  },
  "language_info": {
   "codemirror_mode": {
    "name": "ipython",
    "version": 3
   },
   "file_extension": ".py",
   "mimetype": "text/x-python",
   "name": "python",
   "nbconvert_exporter": "python",
   "pygments_lexer": "ipython3",
   "version": "3.7.11"
  }
 },
 "nbformat": 4,
 "nbformat_minor": 5
}
